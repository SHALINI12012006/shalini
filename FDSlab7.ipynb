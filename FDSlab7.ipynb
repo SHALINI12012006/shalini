{
  "nbformat": 4,
  "nbformat_minor": 0,
  "metadata": {
    "colab": {
      "provenance": [],
      "toc_visible": true,
      "include_colab_link": true
    },
    "kernelspec": {
      "name": "python3",
      "display_name": "Python 3"
    },
    "language_info": {
      "name": "python"
    }
  },
  "cells": [
    {
      "cell_type": "markdown",
      "metadata": {
        "id": "view-in-github",
        "colab_type": "text"
      },
      "source": [
        "<a href=\"https://colab.research.google.com/github/SHALINI12012006/shalini/blob/main/FDSlab7.ipynb\" target=\"_parent\"><img src=\"https://colab.research.google.com/assets/colab-badge.svg\" alt=\"Open In Colab\"/></a>"
      ]
    },
    {
      "cell_type": "code",
      "execution_count": 1,
      "metadata": {
        "colab": {
          "base_uri": "https://localhost:8080/"
        },
        "id": "2kRC6q5K4L1f",
        "outputId": "c0f7ef4c-0eba-4358-83ed-ef7e3f6442bc"
      },
      "outputs": [
        {
          "output_type": "stream",
          "name": "stdout",
          "text": [
            "T-Statistic: 0.9103664774626044\n",
            "P-Value: 0.3892344102084683\n",
            "Fail to Reject the Null Hypothesis (H0)\n"
          ]
        }
      ],
      "source": [
        "#7a\n",
        "import numpy as np\n",
        "from scipy import stats\n",
        "\n",
        "# Independent samples\n",
        "sample1 = np.array([22, 25, 27, 30, 32])\n",
        "sample2 = np.array([20, 23, 25, 28, 29])\n",
        "\n",
        "# Perform independent t-test\n",
        "t_stat, p_value = stats.ttest_ind(sample1, sample2)\n",
        "\n",
        "# Output\n",
        "print(\"T-Statistic:\", t_stat)\n",
        "print(\"P-Value:\", p_value)\n",
        "\n",
        "# Decision\n",
        "if p_value < 0.05:\n",
        "    print(\"Reject the Null Hypothesis (H0)\")\n",
        "else:\n",
        "    print(\"Fail to Reject the Null Hypothesis (H0)\")"
      ]
    },
    {
      "cell_type": "code",
      "source": [
        "#7b\n",
        "import numpy as np\n",
        "from scipy import stats\n",
        "# Sample data\n",
        "ages = [45, 89, 23, 46, 12, 69, 45, 24, 34, 67]\n",
        "# One-sample t-test\n",
        "t_stat, p_value = stats.ttest_1samp(ages, 50)\n",
        "# Output\n",
        "print(\"T-Statistic:\", t_stat)\n",
        "print(\"P-Value:\", p_value)\n",
        "# Decision\n",
        "if p_value < 0.05:\n",
        "    print(\"Reject the Null Hypothesis (H0)\")\n",
        "else:\n",
        "    print(\"Fail to Reject the Null Hypothesis (H0)\")"
      ],
      "metadata": {
        "id": "eNB_doqi4Ug6",
        "outputId": "4d269ae9-1bea-41bb-efb0-fae3f62b1e32",
        "colab": {
          "base_uri": "https://localhost:8080/"
        }
      },
      "execution_count": null,
      "outputs": [
        {
          "output_type": "stream",
          "name": "stdout",
          "text": [
            "T-Statistic: -0.609261131842284\n",
            "P-Value: 0.5574162308782487\n",
            "Fail to Reject the Null Hypothesis (H0)\n"
          ]
        }
      ]
    }
  ]
}