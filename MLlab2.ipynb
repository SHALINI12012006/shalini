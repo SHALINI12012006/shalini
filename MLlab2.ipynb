{
  "nbformat": 4,
  "nbformat_minor": 0,
  "metadata": {
    "colab": {
      "provenance": [],
      "include_colab_link": true
    },
    "kernelspec": {
      "name": "python3",
      "display_name": "Python 3"
    },
    "language_info": {
      "name": "python"
    }
  },
  "cells": [
    {
      "cell_type": "markdown",
      "metadata": {
        "id": "view-in-github",
        "colab_type": "text"
      },
      "source": [
        "<a href=\"https://colab.research.google.com/github/SHALINI12012006/shalini/blob/main/MLlab2.ipynb\" target=\"_parent\"><img src=\"https://colab.research.google.com/assets/colab-badge.svg\" alt=\"Open In Colab\"/></a>"
      ]
    },
    {
      "cell_type": "code",
      "source": [
        "import numpy as np\n",
        "from collections import Counter\n",
        "\n",
        "# Node class for tree representation\n",
        "class Node:\n",
        "    def __init__(self, feature=None, value=None, result=None):\n",
        "        self.feature = feature     # Index of the feature to split on\n",
        "        self.value = value         # Feature value\n",
        "        self.result = result       # Label if it's a leaf node\n",
        "        self.children = {}         # Dictionary of feature_value: child_node\n",
        "\n",
        "# Function to compute entropy\n",
        "def entropy(y):\n",
        "    counter = Counter(y)\n",
        "    total_count = len(y)\n",
        "    entropy_val = 0.0\n",
        "    for label, count in counter.items():\n",
        "        probability = count / total_count\n",
        "        entropy_val -= probability * np.log2(probability)\n",
        "    return entropy_val\n",
        "\n",
        "# Function to calculate information gain for a feature\n",
        "def information_gain(X, y, feature):\n",
        "    total_entropy = entropy(y)\n",
        "    unique_values = set(X[:, feature])\n",
        "    weighted_entropy = 0.0\n",
        "    for value in unique_values:\n",
        "        subset_indices = np.where(X[:, feature] == value)[0]\n",
        "        subset_y = y[subset_indices]\n",
        "        weighted_entropy += (len(subset_y) / len(y)) * entropy(subset_y)\n",
        "    return total_entropy - weighted_entropy\n",
        "\n",
        "# ID3 algorithm to build the tree\n",
        "def id3(X, y, features):\n",
        "    if len(set(y)) == 1:\n",
        "        return Node(result=y[0])  # Pure leaf node\n",
        "    if len(features) == 0:\n",
        "        majority_label = Counter(y).most_common(1)[0][0]\n",
        "        return Node(result=majority_label)\n",
        "\n",
        "    # Choose the best feature\n",
        "    best_feature = max(features, key=lambda f: information_gain(X, y, f))\n",
        "    root = Node(feature=best_feature)\n",
        "\n",
        "    unique_values = set(X[:, best_feature])\n",
        "    for value in unique_values:\n",
        "        subset_indices = np.where(X[:, best_feature] == value)[0]\n",
        "        subset_X = X[subset_indices]\n",
        "        subset_y = y[subset_indices]\n",
        "        if len(subset_y) == 0:\n",
        "            majority_label = Counter(y).most_common(1)[0][0]\n",
        "            root.children[value] = Node(result=majority_label)\n",
        "        else:\n",
        "            remaining_features = [f for f in features if f != best_feature]\n",
        "            root.children[value] = id3(subset_X, subset_y, remaining_features)\n",
        "\n",
        "    return root\n",
        "\n",
        "# Function to predict label for a single sample\n",
        "def predict(node, sample):\n",
        "    if node.result is not None:\n",
        "        return node.result\n",
        "    value = sample[node.feature]\n",
        "    if value not in node.children:\n",
        "        return None\n",
        "    return predict(node.children[value], sample)\n",
        "\n",
        "# Example dataset\n",
        "X_train = np.array([\n",
        "    ['Sunny', 'Hot', 'High', 'Weak'],\n",
        "    ['Sunny', 'Hot', 'High', 'Strong'],\n",
        "    ['Overcast', 'Hot', 'High', 'Weak'],\n",
        "    ['Rain', 'Mild', 'High', 'Weak'],\n",
        "    ['Rain', 'Cool', 'Normal', 'Weak'],\n",
        "    ['Rain', 'Cool', 'Normal', 'Strong'],\n",
        "    ['Overcast', 'Cool', 'Normal', 'Strong'],\n",
        "    ['Sunny', 'Mild', 'High', 'Weak'],\n",
        "    ['Sunny', 'Cool', 'Normal', 'Weak'],\n",
        "    ['Rain', 'Mild', 'Normal', 'Weak'],\n",
        "    ['Sunny', 'Mild', 'Normal', 'Strong'],\n",
        "    ['Overcast', 'Mild', 'High', 'Strong'],\n",
        "    ['Overcast', 'Hot', 'Normal', 'Weak'],\n",
        "    ['Rain', 'Mild', 'High', 'Strong']\n",
        "])\n",
        "\n",
        "y_train = np.array([\n",
        "    'No', 'No', 'Yes', 'Yes', 'Yes', 'No', 'Yes',\n",
        "    'No', 'Yes', 'Yes', 'Yes', 'Yes', 'Yes', 'No'\n",
        "])\n",
        "\n",
        "features = [0, 1, 2, 3]  # Feature indices\n",
        "\n",
        "# Train the tree\n",
        "tree = id3(X_train, y_train, features)\n",
        "\n",
        "# Predict for a new sample\n",
        "sample = ['Overcast', 'Cool', 'Normal', 'Strong']\n",
        "print(\"Prediction:\", predict(tree, sample))\n"
      ],
      "metadata": {
        "colab": {
          "base_uri": "https://localhost:8080/"
        },
        "id": "5gPg0_HqOTz9",
        "outputId": "610713d2-f97a-4ca6-f908-119d557252e5"
      },
      "execution_count": 1,
      "outputs": [
        {
          "output_type": "stream",
          "name": "stdout",
          "text": [
            "Prediction: Yes\n"
          ]
        }
      ]
    }
  ]
}