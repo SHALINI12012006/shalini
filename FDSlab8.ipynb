{
  "nbformat": 4,
  "nbformat_minor": 0,
  "metadata": {
    "colab": {
      "provenance": [],
      "include_colab_link": true
    },
    "kernelspec": {
      "name": "python3",
      "display_name": "Python 3"
    },
    "language_info": {
      "name": "python"
    }
  },
  "cells": [
    {
      "cell_type": "markdown",
      "metadata": {
        "id": "view-in-github",
        "colab_type": "text"
      },
      "source": [
        "<a href=\"https://colab.research.google.com/github/SHALINI12012006/shalini/blob/main/FDSlab8.ipynb\" target=\"_parent\"><img src=\"https://colab.research.google.com/assets/colab-badge.svg\" alt=\"Open In Colab\"/></a>"
      ]
    },
    {
      "cell_type": "code",
      "execution_count": 1,
      "metadata": {
        "colab": {
          "base_uri": "https://localhost:8080/"
        },
        "id": "KCI7zPYW4d6d",
        "outputId": "767432cb-405d-4c29-de47-eb7685b869d1"
      },
      "outputs": [
        {
          "output_type": "stream",
          "name": "stdout",
          "text": [
            "F-Statistic: 9.742031134173462\n",
            "P-Value: 0.0030657935085609245\n",
            "Reject the Null Hypothesis\n"
          ]
        }
      ],
      "source": [
        "#8a\n",
        "import numpy as np\n",
        "from scipy import stats\n",
        "\n",
        "# Sample data from three colleges\n",
        "college1 = [85, 90, 88, 75, 95]\n",
        "college2 = [70, 65, 80, 72, 60]\n",
        "college3 = [78, 82, 84, 88, 90]\n",
        "\n",
        "# One-way ANOVA\n",
        "f_stat, p_value = stats.f_oneway(college1, college2, college3)\n",
        "\n",
        "print(\"F-Statistic:\", f_stat)\n",
        "print(\"P-Value:\", p_value)\n",
        "\n",
        "if p_value < 0.05:\n",
        "    print(\"Reject the Null Hypothesis\")\n",
        "else:\n",
        "    print(\"Fail to Reject the Null Hypothesis\")"
      ]
    },
    {
      "cell_type": "code",
      "source": [
        "#8b\n",
        "import pandas as pd\n",
        "import statsmodels.api as sm\n",
        "from statsmodels.formula.api import ols\n",
        "\n",
        "# Sample dataset\n",
        "data = pd.DataFrame({\n",
        "    'Marks': [88, 90, 75, 70, 65, 80, 72, 60, 78, 82, 84, 88, 90, 85, 83],\n",
        "    'College': ['A', 'A', 'A', 'B', 'B', 'B', 'B', 'B', 'C', 'C', 'C', 'C', 'C', 'A', 'A'],\n",
        "    'Stream': ['Sci', 'Com', 'Art', 'Sci', 'Com', 'Sci', 'Art', 'Art', 'Sci', 'Com', 'Sci',\n",
        "'Com', 'Art', 'Com', 'Sci']\n",
        "})\n",
        "\n",
        "# Fit model\n",
        "model = ols('Marks ~ C(College) + C(Stream) + C(College):C(Stream)',\n",
        "data=data).fit()\n",
        "anova_table = sm.stats.anova_lm(model, typ=2)\n",
        "print(anova_table)"
      ],
      "metadata": {
        "colab": {
          "base_uri": "https://localhost:8080/"
        },
        "id": "3HVOPa6i5N5R",
        "outputId": "5d454921-a1ed-403a-a440-0676dbbcc16d"
      },
      "execution_count": null,
      "outputs": [
        {
          "output_type": "stream",
          "name": "stdout",
          "text": [
            "                          sum_sq   df          F    PR(>F)\n",
            "C(College)            632.094681  2.0  10.362208  0.011317\n",
            "C(Stream)              39.044681  2.0   0.640077  0.559799\n",
            "C(College):C(Stream)  231.155319  4.0   1.894716  0.230723\n",
            "Residual              183.000000  6.0        NaN       NaN\n"
          ]
        }
      ]
    },
    {
      "cell_type": "code",
      "source": [
        "#8c\n",
        "import numpy as np\n",
        "from scipy import stats\n",
        "\n",
        "# Sample data for three groups\n",
        "group_A = [88, 90, 75, 85, 83]\n",
        "group_B = [70, 65, 80, 72, 60]\n",
        "group_C = [78, 82, 84, 88, 90]\n",
        "\n",
        "# Perform one-way ANOVA\n",
        "f_statistic, p_value = stats.f_oneway(group_A, group_B, group_C)\n",
        "print(\"F-Statistic:\", f_statistic)\n",
        "print(\"P-Value:\", p_value)\n",
        "if p_value < 0.05:\n",
        "    print(\"Reject the Null Hypothesis: At least one group mean is different.\")\n",
        "else:\n",
        "    print(\"Fail to Reject the Null Hypothesis: All group means are equal.\")"
      ],
      "metadata": {
        "colab": {
          "base_uri": "https://localhost:8080/"
        },
        "id": "CKAH9P7V5U0N",
        "outputId": "0bc994ce-b6d5-470a-a4ee-8b440c552637"
      },
      "execution_count": null,
      "outputs": [
        {
          "output_type": "stream",
          "name": "stdout",
          "text": [
            "F-Statistic: 9.798764342453667\n",
            "P-Value: 0.003000328280591994\n",
            "Reject the Null Hypothesis: At least one group mean is different.\n"
          ]
        }
      ]
    }
  ]
}