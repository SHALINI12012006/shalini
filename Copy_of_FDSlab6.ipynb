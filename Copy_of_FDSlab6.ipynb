{
  "nbformat": 4,
  "nbformat_minor": 0,
  "metadata": {
    "colab": {
      "provenance": [],
      "toc_visible": true,
      "include_colab_link": true
    },
    "kernelspec": {
      "name": "python3",
      "display_name": "Python 3"
    },
    "language_info": {
      "name": "python"
    }
  },
  "cells": [
    {
      "cell_type": "markdown",
      "metadata": {
        "id": "view-in-github",
        "colab_type": "text"
      },
      "source": [
        "<a href=\"https://colab.research.google.com/github/SHALINI12012006/shalini/blob/main/Copy_of_FDSlab6.ipynb\" target=\"_parent\"><img src=\"https://colab.research.google.com/assets/colab-badge.svg\" alt=\"Open In Colab\"/></a>"
      ]
    },
    {
      "cell_type": "code",
      "execution_count": 1,
      "metadata": {
        "colab": {
          "base_uri": "https://localhost:8080/"
        },
        "id": "2OuAbaTF3LnI",
        "outputId": "2c126871-5f62-4bfe-9cd4-b064221fd6a0"
      },
      "outputs": [
        {
          "output_type": "stream",
          "name": "stdout",
          "text": [
            "Sample Mean: 71.0\n",
            "Sample Std Dev: 11.498792207106893\n",
            "Z-Statistic: 0.27500954910846337\n",
            "P-Value: 0.7833089019485087\n",
            "Fail to Reject the Null Hypothesis (H0)\n"
          ]
        }
      ],
      "source": [
        "#6a\n",
        "import pandas as pd\n",
        "import numpy as np\n",
        "from scipy import stats\n",
        "\n",
        "# Sample data\n",
        "data = {'scores': [55, 60, 65, 70, 75, 80, 85, 60, 70, 90]}\n",
        "df = pd.DataFrame(data)\n",
        "\n",
        "# Parameters\n",
        "sample = df['scores']\n",
        "population_mean = 70\n",
        "sample_mean = np.mean(sample)\n",
        "sample_std = np.std(sample, ddof=1)\n",
        "n = len(sample)\n",
        "\n",
        "# Z-test calculation\n",
        "z_stat = (sample_mean - population_mean) / (sample_std / np.sqrt(n))\n",
        "p_value = 2 * (1 - stats.norm.cdf(abs(z_stat)))\n",
        "\n",
        "# Output\n",
        "print(\"Sample Mean:\", sample_mean)\n",
        "print(\"Sample Std Dev:\", sample_std)\n",
        "print(\"Z-Statistic:\", z_stat)\n",
        "print(\"P-Value:\", p_value)\n",
        "\n",
        "# Result interpretation\n",
        "if p_value < 0.05:\n",
        "    print(\"Reject the Null Hypothesis (H0)\")\n",
        "else:\n",
        "    print(\"Fail to Reject the Null Hypothesis (H0)\")"
      ]
    },
    {
      "cell_type": "code",
      "source": [
        "#6b\n",
        "import pandas as pd\n",
        "import numpy as np\n",
        "from scipy import stats\n",
        "\n",
        "# Sample data\n",
        "sample1 = np.array([65, 70, 75, 80, 85, 90])\n",
        "sample2 = np.array([60, 62, 68, 72, 74, 76])\n",
        "\n",
        "# Calculate statistics\n",
        "mean1, mean2 = np.mean(sample1), np.mean(sample2)\n",
        "std1, std2 = np.std(sample1, ddof=1), np.std(sample2, ddof=1)\n",
        "n1, n2 = len(sample1), len(sample2)\n",
        "\n",
        "# Z-test formula\n",
        "z_stat = (mean1 - mean2) / np.sqrt((std1**2 / n1) + (std2**2 / n2))\n",
        "p_value = 2 * (1 - stats.norm.cdf(abs(z_stat)))\n",
        "\n",
        "# Output\n",
        "print(\"Mean1:\", mean1, \"Mean2:\", mean2)\n",
        "print(\"Z-Statistic:\", z_stat)\n",
        "print(\"P-Value:\", p_value)\n",
        "\n",
        "# Decision\n",
        "if p_value < 0.05:\n",
        "    print(\"Reject the Null Hypothesis (H0)\")\n",
        "else:\n",
        "    print(\"Fail to Reject the Null Hypothesis (H0)\")"
      ],
      "metadata": {
        "colab": {
          "base_uri": "https://localhost:8080/"
        },
        "id": "JfaMIHis32wJ",
        "outputId": "dff6eba4-72e0-4a5d-9b3f-8331ff1aedec"
      },
      "execution_count": null,
      "outputs": [
        {
          "output_type": "stream",
          "name": "stdout",
          "text": [
            "Mean1: 77.5 Mean2: 68.66666666666667\n",
            "Z-Statistic: 1.896489107455959\n",
            "P-Value: 0.05789539898186358\n",
            "Fail to Reject the Null Hypothesis (H0)\n"
          ]
        }
      ]
    }
  ]
}