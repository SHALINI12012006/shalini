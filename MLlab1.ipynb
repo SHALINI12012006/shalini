{
  "nbformat": 4,
  "nbformat_minor": 0,
  "metadata": {
    "colab": {
      "provenance": [],
      "include_colab_link": true
    },
    "kernelspec": {
      "name": "python3",
      "display_name": "Python 3"
    },
    "language_info": {
      "name": "python"
    }
  },
  "cells": [
    {
      "cell_type": "markdown",
      "metadata": {
        "id": "view-in-github",
        "colab_type": "text"
      },
      "source": [
        "<a href=\"https://colab.research.google.com/github/SHALINI12012006/shalini/blob/main/MLlab1.ipynb\" target=\"_parent\"><img src=\"https://colab.research.google.com/assets/colab-badge.svg\" alt=\"Open In Colab\"/></a>"
      ]
    },
    {
      "cell_type": "code",
      "source": [
        "import numpy as np\n",
        "from collections import Counter\n",
        "\n",
        "# Node class for tree representation\n",
        "class Node:\n",
        "    def __init__(self, feature=None, value=None, result=None):\n",
        "        self.feature = feature     # Index of the feature to split on\n",
        "        self.value = value         # Feature value\n",
        "        self.result = result       # Label if it's a leaf node\n",
        "        self.children = {}         # Dictionary of feature_value: child_node\n"
      ],
      "metadata": {
        "id": "RL7dvo5hND1g"
      },
      "execution_count": 1,
      "outputs": []
    },
    {
      "cell_type": "code",
      "source": [
        "# Function to compute entropy\n",
        "def entropy(y):\n",
        "    counter = Counter(y)\n",
        "    total_count = len(y)\n",
        "    entropy_val = 0.0\n",
        "    for label, count in counter.items():\n",
        "        probability = count / total_count\n",
        "        entropy_val -= probability * np.log2(probability)\n",
        "    return entropy_val\n"
      ],
      "metadata": {
        "id": "nwyxUGmbNEyd"
      },
      "execution_count": null,
      "outputs": []
    },
    {
      "cell_type": "code",
      "source": [
        "# Function to calculate information gain for a feature\n",
        "def information_gain(X, y, feature):\n",
        "    total_entropy = entropy(y)\n",
        "    unique_values = set(X[:, feature])\n",
        "    weighted_entropy = 0.0\n",
        "    for value in unique_values:\n",
        "        subset_indices = np.where(X[:, feature] == value)[0]\n",
        "        subset_y = y[subset_indices]\n",
        "        weighted_entropy += (len(subset_y) / len(y)) * entropy(subset_y)\n",
        "    return total_entropy - weighted_entropy\n"
      ],
      "metadata": {
        "id": "69CqhO1qNMRt"
      },
      "execution_count": null,
      "outputs": []
    },
    {
      "cell_type": "code",
      "source": [
        "# ID3 algorithm to build the tree\n",
        "def id3(X, y, features):\n",
        "    if len(set(y)) == 1:\n",
        "        return Node(result=y[0])  # Pure leaf node\n",
        "    if len(features) == 0:\n",
        "        majority_label = Counter(y).most_common(1)[0][0]\n",
        "        return Node(result=majority_label)"
      ],
      "metadata": {
        "id": "pBPoqAhXNPUp"
      },
      "execution_count": null,
      "outputs": []
    },
    {
      "cell_type": "code",
      "source": [
        "# Choose the best feature\n",
        "best_feature = max(features, key=lambda f: information_gain(X, y, f))\n",
        "root = Node(feature=best_feature)\n",
        "\n",
        "unique_values = set(X[:, best_feature])\n",
        "for value in unique_values:\n",
        "  subset_indices = np.where(X[:, best_feature] == value)[0]\n",
        "  subset_X = X[subset_indices]\n",
        "  subset_y = y[subset_indices]\n",
        "  if len(subset_y) == 0:\n",
        "    majority_label = Counter(y).most_common(1)[0][0]\n",
        "    root.children[value] = Node(result=majority_label)\n",
        "  else:\n",
        "    remaining_features = [f for f in features if f != best_feature]\n",
        "    root.children[value] = id3(subset_X, subset_y, remaining_features)\n",
        "return root"
      ],
      "metadata": {
        "colab": {
          "base_uri": "https://localhost:8080/",
          "height": 211
        },
        "id": "5R4OfVVtNTPD",
        "outputId": "bd2df796-d06c-4b69-d766-5bf820030b73"
      },
      "execution_count": null,
      "outputs": [
        {
          "output_type": "error",
          "ename": "NameError",
          "evalue": "name 'features' is not defined",
          "traceback": [
            "\u001b[0;31m---------------------------------------------------------------------------\u001b[0m",
            "\u001b[0;31mNameError\u001b[0m                                 Traceback (most recent call last)",
            "\u001b[0;32m<ipython-input-63-19ac1ff00b3c>\u001b[0m in \u001b[0;36m<cell line: 0>\u001b[0;34m()\u001b[0m\n\u001b[1;32m      1\u001b[0m \u001b[0;31m# Choose the best feature\u001b[0m\u001b[0;34m\u001b[0m\u001b[0;34m\u001b[0m\u001b[0m\n\u001b[0;32m----> 2\u001b[0;31m \u001b[0mbest_feature\u001b[0m \u001b[0;34m=\u001b[0m \u001b[0mmax\u001b[0m\u001b[0;34m(\u001b[0m\u001b[0mfeatures\u001b[0m\u001b[0;34m,\u001b[0m \u001b[0mkey\u001b[0m\u001b[0;34m=\u001b[0m\u001b[0;32mlambda\u001b[0m \u001b[0mf\u001b[0m\u001b[0;34m:\u001b[0m \u001b[0minformation_gain\u001b[0m\u001b[0;34m(\u001b[0m\u001b[0mX\u001b[0m\u001b[0;34m,\u001b[0m \u001b[0my\u001b[0m\u001b[0;34m,\u001b[0m \u001b[0mf\u001b[0m\u001b[0;34m)\u001b[0m\u001b[0;34m)\u001b[0m\u001b[0;34m\u001b[0m\u001b[0;34m\u001b[0m\u001b[0m\n\u001b[0m\u001b[1;32m      3\u001b[0m \u001b[0mroot\u001b[0m \u001b[0;34m=\u001b[0m \u001b[0mNode\u001b[0m\u001b[0;34m(\u001b[0m\u001b[0mfeature\u001b[0m\u001b[0;34m=\u001b[0m\u001b[0mbest_feature\u001b[0m\u001b[0;34m)\u001b[0m\u001b[0;34m\u001b[0m\u001b[0;34m\u001b[0m\u001b[0m\n\u001b[1;32m      4\u001b[0m \u001b[0;34m\u001b[0m\u001b[0m\n\u001b[1;32m      5\u001b[0m \u001b[0munique_values\u001b[0m \u001b[0;34m=\u001b[0m \u001b[0mset\u001b[0m\u001b[0;34m(\u001b[0m\u001b[0mX\u001b[0m\u001b[0;34m[\u001b[0m\u001b[0;34m:\u001b[0m\u001b[0;34m,\u001b[0m \u001b[0mbest_feature\u001b[0m\u001b[0;34m]\u001b[0m\u001b[0;34m)\u001b[0m\u001b[0;34m\u001b[0m\u001b[0;34m\u001b[0m\u001b[0m\n",
            "\u001b[0;31mNameError\u001b[0m: name 'features' is not defined"
          ]
        }
      ]
    }
  ]
}